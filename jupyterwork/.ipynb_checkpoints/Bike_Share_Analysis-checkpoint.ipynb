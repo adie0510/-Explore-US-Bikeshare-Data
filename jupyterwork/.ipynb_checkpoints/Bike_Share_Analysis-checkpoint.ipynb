{
 "cells": [
  {
   "cell_type": "markdown",
   "metadata": {},
   "source": [
    "# 2016 US Bike Share Activity Snapshot\n",
    "\n",
    "## Table of Contents\n",
    "- [Introduction](#intro)\n",
    "- [Posing Questions](#pose_questions)\n",
    "- [Data Collection and Wrangling](#wrangling)\n",
    "  - [Condensing the Trip Data](#condensing)\n",
    "- [Exploratory Data Analysis](#eda)\n",
    "  - [Statistics](#statistics)\n",
    "  - [Visualizations](#visualizations)\n",
    "- [Performing Your Own Analysis](#eda_continued)\n",
    "- [Conclusions](#conclusions)\n",
    "\n",
    "<a id='intro'></a>\n",
    "## Introduction\n",
    "\n",
    "Over the past decade, bicycle-sharing systems have been growing in number and popularity in cities across the world. Bicycle-sharing systems allow users to rent bicycles for short trips, typically 30 minutes or less. Thanks to the rise in information technologies, it is easy for a user of the system to access a dock within the system to unlock or return bicycles. These technologies also provide a wealth of data that can be used to explore how these bike-sharing systems are used.\n",
    "\n",
    "In this project, you will perform an exploratory analysis on data provided by [Motivate](https://www.motivateco.com/), a bike-share system provider for many major cities in the United States. You will compare the system usage between three large cities: New York City, Chicago, and Washington, DC. You will also see if there are any differences within each system for those users that are registered, regular users and those users that are short-term, casual users."
   ]
  },
  {
   "cell_type": "markdown",
   "metadata": {},
   "source": [
    "<a id='pose_questions'></a>\n",
    "## Posing Questions\n",
    "\n",
    "Before looking at the bike sharing data, you should start by asking questions you might want to understand about the bike share data. Consider, for example, if you were working for Motivate. What kinds of information would you want to know about in order to make smarter business decisions? If you were a user of the bike-share service, what factors might influence how you would want to use the service?\n",
    "\n",
    "**Question 1**: Write at least two questions related to bike sharing that you think could be answered by data.\n",
    "\n",
    "**Answer**: \n",
    "             1.Find the places where people uses Bikes frequently for travel ?\n",
    "             2.Predict the availabilty of Bikes at Places by  the analysis of data ?  \n",
    "             3.Find Some particular days or time if bikes is used very much?\n"
   ]
  },
  {
   "cell_type": "markdown",
   "metadata": {},
   "source": [
    "<a id='wrangling'></a>\n",
    "## Data Collection and Wrangling\n",
    "\n",
    "Now it's time to collect and explore our data. In this project, we will focus on the record of individual trips taken in 2016 from our selected cities: New York City, Chicago, and Washington, DC. Each of these cities has a page where we can freely download the trip data.:\n",
    "\n",
    "- New York City (Citi Bike): [Link](https://www.citibikenyc.com/system-data)\n",
    "- Chicago (Divvy): [Link](https://www.divvybikes.com/system-data)\n",
    "- Washington, DC (Capital Bikeshare): [Link](https://www.capitalbikeshare.com/system-data)\n",
    "\n",
    "If you visit these pages, you will notice that each city has a different way of delivering its data. Chicago updates with new data twice a year, Washington DC is quarterly, and New York City is monthly. **However, you do not need to download the data yourself.** The data has already been collected for you in the `/data/` folder of the project files. While the original data for 2016 is spread among multiple files for each city, the files in the `/data/` folder collect all of the trip data for the year into one file per city. Some data wrangling of inconsistencies in timestamp format within each city has already been performed for you. In addition, a random 2% sample of the original data is taken to make the exploration more manageable. \n",
    "\n",
    "**Question 2**: However, there is still a lot of data for us to investigate, so it's a good idea to start off by looking at one entry from each of the cities we're going to analyze. Run the first code cell below to load some packages and functions that you'll be using in your analysis. Then, complete the second code cell to print out the first trip recorded from each of the cities (the second line of each data file).\n",
    "\n"
   ]
  },
  {
   "cell_type": "code",
   "execution_count": 15,
   "metadata": {
    "collapsed": true
   },
   "outputs": [],
   "source": [
    "## import all necessary packages and functions.\n",
    "import csv # read and write csv files\n",
    "from datetime import datetime # operations to parse dates\n",
    "from pprint import pprint # use to print data structures like dictionaries in\n",
    "                          # a nicer way than the base print function.\n",
    "import pprint# display in specific style \n",
    "import pandas as pd\n",
    "import numpy as np"
   ]
  },
  {
   "cell_type": "code",
   "execution_count": 17,
   "metadata": {},
   "outputs": [
    {
     "name": "stdout",
     "output_type": "stream",
     "text": [
      "\n",
      "City: NYC\n",
      "OrderedDict([('tripduration', '839'),\n",
      "             ('starttime', '1/1/2016 00:09:55'),\n",
      "             ('stoptime', '1/1/2016 00:23:54'),\n",
      "             ('start station id', '532'),\n",
      "             ('start station name', 'S 5 Pl & S 4 St'),\n",
      "             ('start station latitude', '40.710451'),\n",
      "             ('start station longitude', '-73.960876'),\n",
      "             ('end station id', '401'),\n",
      "             ('end station name', 'Allen St & Rivington St'),\n",
      "             ('end station latitude', '40.72019576'),\n",
      "             ('end station longitude', '-73.98997825'),\n",
      "             ('bikeid', '17109'),\n",
      "             ('usertype', 'Customer'),\n",
      "             ('birth year', ''),\n",
      "             ('gender', '0')])\n",
      "\n",
      "City: Chicago\n",
      "OrderedDict([('trip_id', '9080545'),\n",
      "             ('starttime', '3/31/2016 23:30'),\n",
      "             ('stoptime', '3/31/2016 23:46'),\n",
      "             ('bikeid', '2295'),\n",
      "             ('tripduration', '926'),\n",
      "             ('from_station_id', '156'),\n",
      "             ('from_station_name', 'Clark St & Wellington Ave'),\n",
      "             ('to_station_id', '166'),\n",
      "             ('to_station_name', 'Ashland Ave & Wrightwood Ave'),\n",
      "             ('usertype', 'Subscriber'),\n",
      "             ('gender', 'Male'),\n",
      "             ('birthyear', '1990')])\n",
      "\n",
      "City: Washington\n",
      "OrderedDict([('Duration (ms)', '427387'),\n",
      "             ('Start date', '3/31/2016 22:57'),\n",
      "             ('End date', '3/31/2016 23:04'),\n",
      "             ('Start station number', '31602'),\n",
      "             ('Start station', 'Park Rd & Holmead Pl NW'),\n",
      "             ('End station number', '31207'),\n",
      "             ('End station', 'Georgia Ave and Fairmont St NW'),\n",
      "             ('Bike number', 'W20842'),\n",
      "             ('Member Type', 'Registered')])\n"
     ]
    }
   ],
   "source": [
    "def print_first_point(filename):\n",
    "    \"\"\"\n",
    "    This function prints and returns the first data point (second row) from\n",
    "    a csv file that includes a header row.\n",
    "    \"\"\"\n",
    "    # print city name for reference\n",
    "    city = filename.split('-')[0].split('/')[-1]\n",
    "    print('\\nCity: {}'.format(city))\n",
    "    \n",
    "    with open(filename, 'r') as f_in:\n",
    "        ## Use the csv library to set up a DictReader object. ##\n",
    "        ## see https://docs.python.org/3/library/csv.html  ##\n",
    "        trip_reader = csv.DictReader(f_in)\n",
    "        \n",
    "        ## Use a function on the DictReader object to read the  ##\n",
    "        ## first trip from the data file and store it in a variable. ##\n",
    "        ## see https://docs.python.org/3/library/csv.html#reader-objects ##\n",
    "\n",
    "        first_trip=next(trip_reader)\n",
    "        \n",
    "        ## Use the pprint library to print the first trip. ##\n",
    "        ## see https://docs.python.org/3/library/pprint.html##\n",
    "              \n",
    "        p = pprint.PrettyPrinter()\n",
    "        p.pprint(first_trip)\n",
    "        \n",
    "    # output city name and first trip for later testing\n",
    "    return (city, first_trip)\n",
    "\n",
    "# list of files for each city\n",
    "data_files = ['./data/NYC-CitiBike-2016.csv',\n",
    "              './data/Chicago-Divvy-2016.csv',\n",
    "              './data/Washington-CapitalBikeshare-2016.csv']\n",
    "\n",
    "# print the first trip from each file, store in dictionary\n",
    "example_trips = {}\n",
    "for data_file in data_files:\n",
    "    city, first_trip = print_first_point(data_file)\n",
    "    example_trips[city] = first_trip\n"
   ]
  },
  {
   "cell_type": "markdown",
   "metadata": {},
   "source": [
    "<a id='condensing'></a>\n",
    "### Condensing the Trip Data\n",
    "\n",
    "It should also be observable from the above printout that each city provides different information. Even where the information is the same, the column names and formats are sometimes different. To make things as simple as possible when we get to the actual exploration, we should trim and clean the data. Cleaning the data makes sure that the data formats across the cities are consistent, while trimming focuses only on the parts of the data we are most interested in to make the exploration easier to work with.\n",
    "\n",
    "You will generate new data files with five values of interest for each trip: trip duration, starting month, starting hour, day of the week, and user type. Each of these may require additional wrangling depending on the city:\n",
    "\n",
    "- **Duration**: This has been given to us in seconds (New York, Chicago) or milliseconds (Washington). A more natural unit of analysis will be if all the trip durations are given in terms of minutes.\n",
    "- **Month**, **Hour**, **Day of Week**: Ridership volume is likely to change based on the season, time of day, and whether it is a weekday or weekend. Use the start time of the trip to obtain these values. The New York City data includes the seconds in their timestamps, while Washington and Chicago do not. The [`datetime`](https://docs.python.org/3/library/datetime.html) package will be very useful here to make the needed conversions.\n",
    "- **User Type**: It is possible that users who are subscribed to a bike-share system will have different patterns of use compared to users who only have temporary passes. Washington divides its users into two types: 'Registered' for users with annual, monthly, and other longer-term subscriptions, and 'Casual', for users with 24-hour, 3-day, and other short-term passes. The New York and Chicago data uses 'Subscriber' and 'Customer' for these groups, respectively. For consistency, you will convert the Washington labels to match the other two.\n",
    "\n",
    "\n",
    "**Question 3a**: Complete the helper functions in the code cells below to address each of the cleaning tasks described above."
   ]
  },
  {
   "cell_type": "code",
   "execution_count": 18,
   "metadata": {
    "collapsed": true
   },
   "outputs": [],
   "source": [
    "def duration_in_mins(datum, city):\n",
    "    \"\"\"\n",
    "    Takes as input a dictionary containing info about a single trip (datum) and\n",
    "    its origin city (city) and returns the trip duration in units of minutes.\n",
    "    \n",
    "    Remember that Washington is in terms of milliseconds while Chicago and NYC\n",
    "    are in terms of seconds. \n",
    "   \n",
    "    \"\"\"\n",
    "    # YOUR CODE HERE \n",
    "\n",
    "    if city == 'Chicago': \n",
    "        duration = float(datum['tripduration']) / 60\n",
    "        \n",
    "    elif city == 'NYC':\n",
    "        duration = float(datum['tripduration']) / 60\n",
    "        \n",
    "    elif city == 'Washington':  # used ELIF instead of ELSE so that conditions  and corresponding data \n",
    "        duration = float(datum['Duration (ms)']) / 60000 #should be properly make understandable \n",
    "        \n",
    "    return duration\n",
    "\n",
    "\n",
    "# Some tests to check that your code works. There should be no output if all of\n",
    "# the assertions pass. The `example_trips` dictionary was obtained from when\n",
    "# you printed the first trip from each of the original data files.\n",
    "tests = {'NYC': 13.9833,\n",
    "         'Chicago': 15.4333,\n",
    "         'Washington': 7.1231}\n",
    "\n",
    "for city in tests:\n",
    "    assert abs(duration_in_mins(example_trips[city], city) - tests[city]) < .001"
   ]
  },
  {
   "cell_type": "code",
   "execution_count": 19,
   "metadata": {
    "collapsed": true
   },
   "outputs": [],
   "source": [
    "def time_of_trip(datum, city):\n",
    "    \"\"\"\n",
    "    Takes as input a dictionary containing info about a single trip (datum) and\n",
    "    its origin city (city) and returns the month, hour, and day of the week in\n",
    "    which the trip was made.\n",
    "    \n",
    "    Remember that NYC includes seconds, while Washington and Chicago do not.\n",
    "\n",
    "    \"\"\"\n",
    "      \n",
    "    if city == 'Chicago':\n",
    "        date_time = datetime.strptime(datum['starttime'], '%m/%d/%Y %H:%M') \n",
    "        day_of_week=date_time.strftime('%A')\n",
    "        month,hour = date_time.month, date_time.hour\n",
    "    \n",
    "    elif city == 'NYC':\n",
    "        date_time = datetime.strptime(datum['starttime'], '%m/%d/%Y %H:%M:%S') \n",
    "        day_of_week=date_time.strftime('%A')\n",
    "        month,hour = date_time.month, date_time.hour\n",
    "    \n",
    "    elif city == 'Washington':   ## used ELIF instead of ELSE so that conditions  and corresponding data\n",
    "        date_time = datetime.strptime(datum['Start date'], '%m/%d/%Y %H:%M') #should be properly make understandable\n",
    "        day_of_week=date_time.strftime('%A')\n",
    "        month,hour = date_time.month, date_time.hour\n",
    "    \n",
    "    return (month, hour, day_of_week)\n",
    "\n",
    "\n",
    "# Some tests to check that your code works. There should be no output if all of\n",
    "# the assertions pass. The `example_trips` dictionary was obtained from when\n",
    "# you printed the first trip from each of the original data files.\n",
    "tests = {'NYC': (1, 0, 'Friday'),\n",
    "         'Chicago': (3, 23, 'Thursday'),\n",
    "         'Washington': (3, 22, 'Thursday')}\n",
    "\n",
    "for city in tests:\n",
    "    assert time_of_trip(example_trips[city], city) == tests[city]"
   ]
  },
  {
   "cell_type": "code",
   "execution_count": 20,
   "metadata": {
    "collapsed": true
   },
   "outputs": [],
   "source": [
    "def type_of_user(datum, city):\n",
    "    \"\"\"\n",
    "    Takes as input a dictionary containing info about a single trip (datum) and\n",
    "    its origin city (city) and returns the type of system user that made the\n",
    "    trip.\n",
    "    \n",
    "    Remember that Washington has different category names compared to Chicago\n",
    "    and NYC. \n",
    "    \"\"\"\n",
    "    \n",
    "    # YOUR CODE HERE\n",
    "    \n",
    "    if city == 'Chicago': \n",
    "        user_type = datum['usertype']\n",
    "        \n",
    "    elif city == 'NYC':\n",
    "        user_type = datum['usertype']\n",
    "        \n",
    "    elif city == 'Washington':   # used ELIF instead of ELSE so that conditions  and corresponding data\n",
    "        if datum['Member Type'] == 'Registered':  #should be properly make understandable \n",
    "            user_type = 'Subscriber'  \n",
    "        else: \n",
    "            user_type = 'Customer'\n",
    "    \n",
    "    return user_type\n",
    "\n",
    "\n",
    "# Some tests to check that your code works. There should be no output if all of\n",
    "# the assertions pass. The `example_trips` dictionary was obtained from when\n",
    "# you printed the first trip from each of the original data files.\n",
    "tests = {'NYC': 'Customer',\n",
    "         'Chicago': 'Subscriber',\n",
    "         'Washington': 'Subscriber'}\n",
    "\n",
    "for city in tests:\n",
    "    assert type_of_user(example_trips[city], city) == tests[city]"
   ]
  },
  {
   "cell_type": "markdown",
   "metadata": {},
   "source": [
    "**Question 3b**: Now, use the helper functions you wrote above to create a condensed data file for each city consisting only of the data fields indicated above. In the `/examples/` folder, you will see an example datafile from the [Bay Area Bike Share](http://www.bayareabikeshare.com/open-data) before and after conversion. Make sure that your output is formatted to be consistent with the example file."
   ]
  },
  {
   "cell_type": "code",
   "execution_count": 21,
   "metadata": {
    "collapsed": true
   },
   "outputs": [],
   "source": [
    "def condense_data(in_file, out_file, city):\n",
    "    \"\"\"\n",
    "    This function takes full data from the specified input file\n",
    "    and writes the condensed data to a specified output file. The city\n",
    "    argument determines how the input file will be parsed.\n",
    "    \n",
    "    \"\"\"\n",
    "    \n",
    "    with open(out_file, 'w') as f_out, open(in_file, 'r') as f_in:\n",
    "        # set up csv DictWriter object - writer requires column names for the\n",
    "        # first row as the \"fieldnames\" argument\n",
    "        out_colnames = ['duration', 'month', 'hour', 'day_of_week', 'user_type']        \n",
    "        trip_writer = csv.DictWriter(f_out, fieldnames = out_colnames)\n",
    "        trip_writer.writeheader()\n",
    "        \n",
    "        ## set up csv DictReader object ##\n",
    "        trip_reader =csv.DictReader(f_in) \n",
    "\n",
    "        # collect data from and process each row\n",
    "        for row in trip_reader:\n",
    "            # set up a dictionary to hold the values for the cleaned and trimmed\n",
    "            # data point\n",
    "            new_point = {}\n",
    "\n",
    "            ## use the helper functions to get the cleaned data from  ##\n",
    "            ## the original data dictionaries.                              ##\n",
    "            ## Note that the keys for the new_point dictionary should match ##\n",
    "            ## the column names set in the DictWriter object above.         ##\n",
    "            \n",
    "            new_point['duration'] = duration_in_mins(row, city)\n",
    "            new_point['month'],new_point['hour'], new_point['day_of_week'] = time_of_trip(row, city)\n",
    "            new_point['user_type'] = type_of_user(row, city)\n",
    "\n",
    "            ## write the processed information to the output file.     ##\n",
    "            trip_writer.writerow(new_point)\n",
    "            \n",
    "            "
   ]
  },
  {
   "cell_type": "code",
   "execution_count": 22,
   "metadata": {},
   "outputs": [
    {
     "name": "stdout",
     "output_type": "stream",
     "text": [
      "\n",
      "City: Washington\n",
      "OrderedDict([('duration', '7.123116666666666'),\n",
      "             ('month', '3'),\n",
      "             ('hour', '22'),\n",
      "             ('day_of_week', 'Thursday'),\n",
      "             ('user_type', 'Subscriber')])\n",
      "\n",
      "City: Chicago\n",
      "OrderedDict([('duration', '15.433333333333334'),\n",
      "             ('month', '3'),\n",
      "             ('hour', '23'),\n",
      "             ('day_of_week', 'Thursday'),\n",
      "             ('user_type', 'Subscriber')])\n",
      "\n",
      "City: NYC\n",
      "OrderedDict([('duration', '13.983333333333333'),\n",
      "             ('month', '1'),\n",
      "             ('hour', '0'),\n",
      "             ('day_of_week', 'Friday'),\n",
      "             ('user_type', 'Customer')])\n"
     ]
    }
   ],
   "source": [
    "# Run this cell to check your work\n",
    "city_info = {'Washington': {'in_file': './data/Washington-CapitalBikeshare-2016.csv',\n",
    "                            'out_file': './data/Washington-2016-Summary.csv'},\n",
    "             'Chicago': {'in_file': './data/Chicago-Divvy-2016.csv',\n",
    "                         'out_file': './data/Chicago-2016-Summary.csv'},\n",
    "             'NYC': {'in_file': './data/NYC-CitiBike-2016.csv',\n",
    "                     'out_file': './data/NYC-2016-Summary.csv'}}\n",
    "\n",
    "for city, filenames in city_info.items():\n",
    "    condense_data(filenames['in_file'], filenames['out_file'], city)\n",
    "    print_first_point(filenames['out_file'])"
   ]
  },
  {
   "cell_type": "markdown",
   "metadata": {},
   "source": [
    "<a id='eda'></a>\n",
    "## Exploratory Data Analysis\n",
    "\n",
    "Now that you have the data collected and wrangled, you're ready to start exploring the data. In this section you will write some code to compute descriptive statistics from the data. You will also be introduced to the `matplotlib` library to create some basic histograms of the data.\n",
    "\n",
    "<a id='statistics'></a>\n",
    "### Statistics\n",
    "\n",
    "First, let's compute some basic counts. The first cell below contains a function that uses the csv module to iterate through a provided data file, returning the number of trips made by subscribers and customers. The second cell runs this function on the example Bay Area data in the `/examples/` folder. Modify the cells to answer the question below.\n",
    "\n",
    "**Question 4a**: Which city has the highest number of trips? Which city has the highest proportion of trips made by subscribers? Which city has the highest proportion of trips made by short-term customers?\n",
    "\n",
    "**Answer**: NYC has highest number of trips.\n",
    "            NYC has the highest proportion of trips made by subscribers.\n",
    "            Chicago has the highest proportion of trips made by short-term customers."
   ]
  },
  {
   "cell_type": "code",
   "execution_count": 24,
   "metadata": {
    "collapsed": true
   },
   "outputs": [],
   "source": [
    "def number_of_trips(filename):\n",
    "    \"\"\"\n",
    "    This function reads in a file with trip data and reports the number of\n",
    "    trips made by subscribers, customers, and total overall.\n",
    "    \"\"\"\n",
    "    with open(filename, 'r') as f_in:\n",
    "        # set up csv reader object\n",
    "        reader = csv.DictReader(f_in)\n",
    "        \n",
    "        # initialize count variables\n",
    "        n_subscribers = 0\n",
    "        n_customers = 0\n",
    "        \n",
    "        # tally up ride types\n",
    "        for row in reader:\n",
    "            if row['user_type'] == 'Subscriber':\n",
    "                n_subscribers += 1\n",
    "            else:\n",
    "                n_customers += 1\n",
    "        \n",
    "        # compute total number of rides\n",
    "        n_total = n_subscribers + n_customers\n",
    "        \n",
    "        sub_pro = (n_subscribers / n_total) * 100 # SUB_PRO is subscribers proportion\n",
    "        cus_pro = (n_customers / n_total) * 100   # CUS_PRO is customers proportion\n",
    "        \n",
    "        # return tallies as a tuple\n",
    "        return(n_subscribers, n_customers, n_total,sub_pro,cus_pro)"
   ]
  },
  {
   "cell_type": "code",
   "execution_count": 26,
   "metadata": {},
   "outputs": [
    {
     "name": "stdout",
     "output_type": "stream",
     "text": [
      "Washington\n",
      "(51753, 14573, 66326, 78.0282242257938, 21.971775774206193)\n",
      "Chicago\n",
      "(54982, 17149, 72131, 76.22520136973007, 23.774798630269924)\n",
      "NYC\n",
      "(245896, 30902, 276798, 88.83590199351151, 11.164098006488485)\n"
     ]
    }
   ],
   "source": [
    "## Modify this and the previous cell to answer Question 4a.##\n",
    "## the function on the cleaned data files you created from Question 3. ##\n",
    "\n",
    "data_file = ['./data/Washington-2016-Summary.csv', './data/Chicago-2016-Summary.csv', './data/NYC-2016-Summary.csv']\n",
    "\n",
    "for datafile in data_file:\n",
    "    city = datafile.split('-')[0].split('/')[-1]\n",
    "    print(city)\n",
    "    print(number_of_trips(datafile))\n",
    "       "
   ]
  },
  {
   "cell_type": "markdown",
   "metadata": {},
   "source": [
    "**Question 4b**: Bike-share systems are designed for riders to take short trips. Most of the time, users are allowed to take trips of 30 minutes or less with no additional charges, with overage charges made for trips of longer than that duration. What is the average trip length for each city? What proportion of rides made in each city are longer than 30 minutes?\n",
    "\n",
    "**Answer**:\n",
    "              City:Washington   Average Trip Length:18.93 min    percentage of rides made longer than 30 minutes: 10.8  \n",
    "              City:Chicago      Average Trip Length:16.56 min    percentage of rides made longer than 30 minutes: 8.3  \n",
    "              City:NYC          Average Trip Length:15.81 min    percentage of rides made longer than 30 minutes: 7.3\n",
    "                "
   ]
  },
  {
   "cell_type": "code",
   "execution_count": 27,
   "metadata": {
    "collapsed": true,
    "scrolled": true
   },
   "outputs": [],
   "source": [
    "def trip_length(filename):\n",
    "    with open(filename,'r') as f_in:\n",
    "        trip_reader = csv.DictReader(f_in)\n",
    "        \n",
    "        trip_long_count = 0 # It will count number of  trip longer than 30 minutes in a city\n",
    "        total_trip = 0 # It will count total number of trip in a city\n",
    "        total_time = 0 # It will contain sum of time of all trip\n",
    "        for row in trip_reader:\n",
    "            total_trip += 1\n",
    "            duration = float(row['duration']);\n",
    "            if duration > 30:\n",
    "                trip_long_count += 1\n",
    "                \n",
    "            total_time += duration\n",
    "            \n",
    "        avg_trip_length = total_time/total_trip\n",
    "        ride_pro = trip_long_count/total_trip\n",
    "        \n",
    "    return ( avg_trip_length, ride_pro)\n",
    "            "
   ]
  },
  {
   "cell_type": "code",
   "execution_count": 28,
   "metadata": {},
   "outputs": [
    {
     "name": "stdout",
     "output_type": "stream",
     "text": [
      "Washington\n",
      "(18.93287355913721, 0.10838886711093688)\n",
      "Chicago\n",
      "(16.563629368787335, 0.08332062497400562)\n",
      "NYC\n",
      "(15.81259299802294, 0.07302437156337835)\n"
     ]
    }
   ],
   "source": [
    "data_file = ['./data/Washington-2016-Summary.csv', './data/Chicago-2016-Summary.csv', './data/NYC-2016-Summary.csv']\n",
    "\n",
    "for datafile in data_file:\n",
    "    city = datafile.split('-')[0].split('/')[-1]\n",
    "    print(city)\n",
    "    print(trip_length(datafile))\n",
    "       "
   ]
  },
  {
   "cell_type": "markdown",
   "metadata": {},
   "source": [
    "**Question 4c**: Dig deeper into the question of trip duration based on ridership. Choose one city. Within that city, which type of user takes longer rides on average: Subscribers or Customers?\n",
    "\n",
    "**Answer**: City:NYC      Customers take longer rides on average.\n",
    "            subscriber:13.68 min , customers:32.98 min"
   ]
  },
  {
   "cell_type": "code",
   "execution_count": 29,
   "metadata": {
    "collapsed": true
   },
   "outputs": [],
   "source": [
    "def avg_trip_length_longer(filename):\n",
    "    with open(filename,'r') as f_in:\n",
    "        trip_reader = csv.DictReader(f_in)\n",
    "        \n",
    "        t_time_trip_c = 0 # it will count total time duration for customers in a city\n",
    "        t_time_trip_s = 0 # it will count total time duration for subscribers in a city\n",
    "    \n",
    "        t_trip_c = 0 # It will count total number of trip for customers in a city\n",
    "        t_trip_s = 0 # It will count total number of trip for subscribers in a city\n",
    "    \n",
    "        total_time = 0 # It will contain sum of time of all trip\n",
    "        i = 0\n",
    "        for row in trip_reader:\n",
    "            user_type = row['user_type']\n",
    "            duration = float(row['duration'])\n",
    "            if user_type == 'Subscriber':\n",
    "                t_trip_s +=1\n",
    "                t_time_trip_s += duration\n",
    "            elif user_type == 'Customer':\n",
    "                t_trip_c +=1\n",
    "                t_time_trip_c += duration \n",
    "             \n",
    "        avg_duration_s = t_time_trip_s / t_trip_s #Average for Subscribers trip duration\n",
    "        avg_duration_c = t_time_trip_c / t_trip_c #Average for Customer trip duration\n",
    "        \n",
    "        return (avg_duration_s,avg_duration_c)\n",
    "    "
   ]
  },
  {
   "cell_type": "code",
   "execution_count": 30,
   "metadata": {},
   "outputs": [
    {
     "name": "stdout",
     "output_type": "stream",
     "text": [
      "NYC\n",
      "(13.680790523907177, 32.982004306775025)\n"
     ]
    }
   ],
   "source": [
    "data_file = './data/NYC-2016-Summary.csv'\n",
    "\n",
    "city = data_file.split('-')[0].split('/')[-1]\n",
    "print(city)\n",
    "print( avg_trip_length_longer(data_file))"
   ]
  },
  {
   "cell_type": "markdown",
   "metadata": {},
   "source": [
    "<a id='visualizations'></a>\n",
    "### Visualizations\n",
    "\n",
    "The last set of values that you computed should have pulled up an interesting result. While the mean trip time for Subscribers is well under 30 minutes, the mean trip time for Customers is actually _above_ 30 minutes! It will be interesting for us to look at how the trip times are distributed. In order to do this, a new library will be introduced here, `matplotlib`. Run the cell below to load the library and to generate an example plot."
   ]
  },
  {
   "cell_type": "code",
   "execution_count": 31,
   "metadata": {},
   "outputs": [
    {
     "data": {
      "image/png": "[encoded data removed]",
      "text/plain": [
       "<matplotlib.figure.Figure at 0x1e3161a84e0>"
      ]
     },
     "metadata": {},
     "output_type": "display_data"
    }
   ],
   "source": [
    "# load library\n",
    "import matplotlib.pyplot as plt\n",
    "\n",
    "# example histogram, data taken from bay area sample\n",
    "data = [ 7.65,  8.92,  7.42,  5.50, 16.17,  4.20,  8.98,  9.62, 11.48, 14.33,\n",
    "        19.02, 21.53,  3.90,  7.97,  2.62,  2.67,  3.08, 14.40, 12.90,  7.83,\n",
    "        25.12,  8.30,  4.93, 12.43, 10.60,  6.17, 10.88,  4.78, 15.15,  3.53,\n",
    "         9.43, 13.32, 11.72,  9.85,  5.22, 15.10,  3.95,  3.17,  8.78,  1.88,\n",
    "         4.55, 12.68, 12.38,  9.78,  7.63,  6.45, 17.38, 11.90, 11.52,  8.63,]\n",
    "plt.hist(data)\n",
    "plt.title('Distribution of Trip Durations')\n",
    "plt.xlabel('Duration (m)')\n",
    "plt.show()"
   ]
  },
  {
   "cell_type": "markdown",
   "metadata": {},
   "source": [
    "In the above cell, we collected fifty trip times in a list, and passed this list as the first argument to the `.hist()` function. This function performs the computations and creates plotting objects for generating a histogram, but the plot is actually not rendered until the `.show()` function is executed. The `.title()` and `.xlabel()` functions provide some labeling for plot context.\n",
    "\n",
    "You will now use these functions to create a histogram of the trip times for the city you selected in question 4c. Don't separate the Subscribers and Customers for now: just collect all of the trip times and plot them."
   ]
  },
  {
   "cell_type": "code",
   "execution_count": 32,
   "metadata": {},
   "outputs": [
    {
     "name": "stdout",
     "output_type": "stream",
     "text": [
      "City:NYC\n"
     ]
    },
    {
     "data": {
      "image/png": "[encoded data removed]",
      "text/plain": [
       "<matplotlib.figure.Figure at 0x1e3161c8cc0>"
      ]
     },
     "metadata": {},
     "output_type": "display_data"
    }
   ],
   "source": [
    "## Use this and additional cells to collect all of the trip times as a list ##\n",
    "## and then use pyplot functions to generate a histogram of trip times.     ##\n",
    "\n",
    "def plot_histogram(filename):\n",
    "    \"\"\" This  functiion will return a list \n",
    "         which conatins all different time duration of trip of a city\n",
    "    \"\"\"     \n",
    "    with open(filename,'r') as f_in:\n",
    "        trip_reader = csv.DictReader(f_in)\n",
    "        trip_time = [] # It contains all trips time(min) of a city\n",
    "        for row in trip_reader:\n",
    "            trip_time.append( float(row['duration']))\n",
    "    return trip_time\n",
    "\n",
    "data_file = './data/NYC-2016-Summary.csv'\n",
    "\n",
    "city = data_file.split('-')[0].split('/')[-1]\n",
    "print('City:' + city)\n",
    "trip_time =  plot_histogram(data_file)\n",
    "bins = range(0,100,5)\n",
    "plt.hist(trip_time,bins)\n",
    "plt.title('Distribution Of Trip Durations',size = 15)\n",
    "plt.xlabel('Duration in min',size = 15)\n",
    "plt.ylabel('No. of user',size = 15)\n",
    "plt.show()\n",
    "\n",
    "\n"
   ]
  },
  {
   "cell_type": "markdown",
   "metadata": {},
   "source": [
    "If you followed the use of the `.hist()` and `.show()` functions exactly like in the example, you're probably looking at a plot that's completely unexpected. The plot consists of one extremely tall bar on the left, maybe a very short second bar, and a whole lot of empty space in the center and right. Take a look at the duration values on the x-axis. This suggests that there are some highly infrequent outliers in the data. Instead of reprocessing the data, you will use additional parameters with the `.hist()` function to limit the range of data that is plotted. Documentation for the function can be found [[here]](https://matplotlib.org/devdocs/api/_as_gen/matplotlib.pyplot.hist.html#matplotlib.pyplot.hist).\n",
    "\n",
    "**Question 5**: Use the parameters of the `.hist()` function to plot the distribution of trip times for the Subscribers in your selected city. Do the same thing for only the Customers. Add limits to the plots so that only trips of duration less than 75 minutes are plotted. As a bonus, set the plots up so that bars are in five-minute wide intervals. For each group, where is the peak of each distribution? How would you describe the shape of each distribution?\n",
    "\n",
    "**Answer**:The peak for Subscriber trip duration is 5-10 min.\n",
    "           The peak for Customer trip duration is  20-25 min.\n",
    "           The shape of distribution in the case of subscriber is right skewed.\n",
    "           The shape of distribution in the case of customer is similar to normal distribution but not completely \n",
    "           "
   ]
  },
  {
   "cell_type": "code",
   "execution_count": 33,
   "metadata": {},
   "outputs": [
    {
     "name": "stdout",
     "output_type": "stream",
     "text": [
      "City:NYC\n"
     ]
    },
    {
     "data": {
      "image/png": "[encoded data removed]",
      "text/plain": [
       "<matplotlib.figure.Figure at 0x1e3161a8550>"
      ]
     },
     "metadata": {},
     "output_type": "display_data"
    }
   ],
   "source": [
    "## Use this and additional cells to answer Question 5. ##\n",
    "def plot_histogram(filename):\n",
    "    \"\"\" This  functiion will return a list \n",
    "         which conatins all different time duration  trip fro subscribers of a city\n",
    "    \"\"\"     \n",
    "    with open(filename,'r') as f_in:\n",
    "        trip_reader = csv.DictReader(f_in)\n",
    "        trip_time = [] # It contains all trips time(min) of a city\n",
    "        for row in trip_reader:\n",
    "            duration = float(row['duration'])\n",
    "            if row['user_type'] == 'Subscriber' and duration < 75: # Adding limit to plot (trip duration < 75) \n",
    "                trip_time.append(duration)\n",
    "                \n",
    "    return trip_time\n",
    "\n",
    "data_file = './data/NYC-2016-Summary.csv'\n",
    "\n",
    "city = data_file.split('-')[0].split('/')[-1]\n",
    "print('City:'+ city)\n",
    "trip_time =  plot_histogram(data_file)\n",
    "\n",
    "bins = range(0,75,5)\n",
    "location = range(5,75,5)\n",
    "labels = ['5','10','15','20','25','30','35','40','45','50','55,''60','65','70','75']\n",
    "plt.xticks(location,labels)\n",
    "plt.hist(trip_time,bins)\n",
    "plt.title('Distribution Of  Trip Duration for Subscribers',size = 10)\n",
    "plt.xlabel('Duration in min',size = 15)\n",
    "plt.ylabel('No. of User',size = 15)\n",
    "plt.show()\n"
   ]
  },
  {
   "cell_type": "code",
   "execution_count": 34,
   "metadata": {},
   "outputs": [
    {
     "name": "stdout",
     "output_type": "stream",
     "text": [
      "City:NYC\n"
     ]
    },
    {
     "data": {
      "image/png": "[encoded data removed]",
      "text/plain": [
       "<matplotlib.figure.Figure at 0x1e322746e80>"
      ]
     },
     "metadata": {},
     "output_type": "display_data"
    }
   ],
   "source": [
    "def plot_histogram(filename):\n",
    "    \"\"\" This  functiion will return a list \n",
    "         which conatins all different time duration  trip for Customers of a city\n",
    "    \"\"\"     \n",
    "    with open(filename,'r') as f_in:\n",
    "        trip_reader = csv.DictReader(f_in)\n",
    "        trip_time = [] # It contains all trips time(min) of a city\n",
    "        \n",
    "        for row in trip_reader :\n",
    "            duration = float(row['duration'])\n",
    "            if row['user_type'] == 'Customer' and duration < 75: # Adding limit to plot (trip duration < 75) :\n",
    "                trip_time.append(duration)\n",
    "    return trip_time\n",
    "\n",
    "data_file = './data/NYC-2016-Summary.csv'\n",
    "\n",
    "city = data_file.split('-')[0].split('/')[-1]\n",
    "print('City:' + city)\n",
    "trip_time =plot_histogram(data_file)\n",
    "bins = range(0,75,5)\n",
    "location = range(5,75,5)\n",
    "plt.hist(trip_time,bins)\n",
    "labels = ['5','10','15','20','25','30','35','40','45','50','55,''60','65','70','75']\n",
    "plt.xticks(location,labels)\n",
    "\n",
    "plt.title('Distribution Of  Trip Duration  for Customers',size = 10)\n",
    "plt.xlabel('Duration in min',size = 15)\n",
    "plt.ylabel('No. of User',size = 15)\n",
    "plt.show()\n"
   ]
  },
  {
   "cell_type": "markdown",
   "metadata": {
    "collapsed": true
   },
   "source": [
    "<a id='eda_continued'></a>\n",
    "## Performing Your Own Analysis\n",
    "\n",
    "So far, you've performed an initial exploration into the data available. You have compared the relative volume of trips made between three U.S. cities and the ratio of trips made by Subscribers and Customers. For one of these cities, you have investigated differences between Subscribers and Customers in terms of how long a typical trip lasts. Now it is your turn to continue the exploration in a direction that you choose. Here are a few suggestions for questions to explore:\n",
    "\n",
    "- How does ridership differ by month or season? Which month / season has the highest ridership? Does the ratio of Subscriber trips to Customer trips change depending on the month or season?\n",
    "- Is the pattern of ridership different on the weekends versus weekdays? On what days are Subscribers most likely to use the system? What about Customers? Does the average duration of rides change depending on the day of the week?\n",
    "- During what time of day is the system used the most? Is there a difference in usage patterns for Subscribers and Customers?\n",
    "\n",
    "If any of the questions you posed in your answer to question 1 align with the bullet points above, this is a good opportunity to investigate one of them. As part of your investigation, you will need to create a visualization. If you want to create something other than a histogram, then you might want to consult the [Pyplot documentation](https://matplotlib.org/devdocs/api/pyplot_summary.html). In particular, if you are plotting values across a categorical variable (e.g. city, user type), a bar chart will be useful. The [documentation page for `.bar()`](https://matplotlib.org/devdocs/api/_as_gen/matplotlib.pyplot.bar.html#matplotlib.pyplot.bar) includes links at the bottom of the page with examples for you to build off of for your own use.\n",
    "\n",
    "**Question 6**: Continue the investigation by exploring another question that could be answered by the data available. Document the question you want to explore below. Your investigation should involve at least two variables and should compare at least two groups. You should also use at least one visualization as part of your explorations.\n",
    "\n",
    "**Answer**: QUES_1.How many Customers and Subscribers are present in those cities .plot Bar Graph?\n",
    "            QUES_2.Find the day on which maximum user went on trip and no. of user on that day in each city .plot bar Graph?\n",
    "  "
   ]
  },
  {
   "cell_type": "code",
   "execution_count": 36,
   "metadata": {
    "collapsed": true
   },
   "outputs": [],
   "source": [
    "## Use this and additional cells to continue to explore the dataset. ##\n",
    "## Once you have performed your exploration, document your findings  ##\n",
    "## in the Markdown cell above.                                       ##\n",
    "def comp_usertype_city(filename):\n",
    "    \"\"\"\n",
    "        Number Of different users will be counted for a city and return it\n",
    "    \"\"\"   \n",
    "    \n",
    "    with open(filename) as f_in:\n",
    "        trip_reader = csv.DictReader(f_in)\n",
    "        \n",
    "        sub_total = 0 # total number of subscribers in a city\n",
    "        cus_total = 0 # total number of customers in a city\n",
    "        for row in trip_reader:\n",
    "            if row['user_type'] =='Subscriber':\n",
    "                sub_total +=1\n",
    "            elif row['user_type'] == 'Customer':\n",
    "                cus_total +=1\n",
    "                \n",
    "    return (sub_total,cus_total)        \n"
   ]
  },
  {
   "cell_type": "code",
   "execution_count": 37,
   "metadata": {},
   "outputs": [
    {
     "name": "stdout",
     "output_type": "stream",
     "text": [
      "City_name:Subscriber,Customer\n",
      "{'Washington': (51753, 14573), 'Chicago': (54982, 17149), 'NYC': (245896, 30185)}\n",
      "\n",
      "\n",
      "Subscribers:[51753, 54982, 245896]\n",
      "Customers:[14573, 17149, 30185]\n"
     ]
    },
    {
     "data": {
      "image/png": "[encoded data removed]",
      "text/plain": [
       "<matplotlib.figure.Figure at 0x1e316192588>"
      ]
     },
     "metadata": {},
     "output_type": "display_data"
    }
   ],
   "source": [
    "data_file = ['./data/Washington-2016-Summary.csv', './data/Chicago-2016-Summary.csv', './data/NYC-2016-Summary.csv']\n",
    "\n",
    "dict_city = {} # It contain cities name with their different kind of user \n",
    "\n",
    "for datafile in data_file:\n",
    "    city = datafile.split('-')[0].split('/')[-1]\n",
    "    dict_city[city] = comp_usertype_city(datafile)\n",
    "    \n",
    "print('City_name:Subscriber,Customer')\n",
    "print(dict_city)\n",
    "\n",
    "cities = []         #it contains all cities\n",
    "cities_subs = []    #it contains no. of Subscribers of each city\n",
    "cities_cus = []     #it contains no. of Customers of each city\n",
    "for key in dict_city:\n",
    "    cities.append(key)\n",
    "    cities_subs.append(dict_city[key][0])\n",
    "    cities_cus.append(dict_city[key][1])\n",
    "    \n",
    "print('\\n')\n",
    "print('Subscribers:' + str(cities_subs))\n",
    "print('Customers:' + str(cities_cus))\n",
    "x_axis =np.arange(len(cities_subs))\n",
    "\n",
    "plt.bar(x_axis,cities_cus,label = 'Customers',width=0.3, color = 'pink' )\n",
    "plt.bar(x_axis + 0.3,cities_subs,label = 'Subscibers',width=0.3, color = 'b' )\n",
    "\n",
    "plt.title('No. of Subscribers and Customers in different Cities')\n",
    "plt.xlabel('City:',size = '15')\n",
    "plt.ylabel('Number of User',size = 15)\n",
    "plt.xticks(x_axis + 0.15,cities)\n",
    "plt.legend()\n",
    "plt.show()\n"
   ]
  },
  {
   "cell_type": "code",
   "execution_count": 38,
   "metadata": {
    "collapsed": true
   },
   "outputs": [],
   "source": [
    "from statistics import mode\n",
    "\n",
    "def comp_week_day_city(filename):\n",
    "    \"\"\"\n",
    "        This function returns name of day in which trip is taking the most by user and\n",
    "        number of trip too in a  city\n",
    "    \"\"\"   \n",
    "    with open(filename) as f_in:\n",
    "        trip_reader = csv.DictReader(f_in)\n",
    "\n",
    "        trip = [] # it contains all days that is equal to number of trip in a city\n",
    "        for row in trip_reader:\n",
    "            trip.append(row['day_of_week'])\n",
    "            \n",
    "  \n",
    "        max_day = mode(trip) # max_day contains day in which most trip is taken by user in a city\n",
    "        max_day_count = trip.count(max_day) # total number of trip on that day\n",
    "        \n",
    "    return (max_day,max_day_count)"
   ]
  },
  {
   "cell_type": "code",
   "execution_count": 39,
   "metadata": {},
   "outputs": [
    {
     "name": "stdout",
     "output_type": "stream",
     "text": [
      "{'Washington': ('Wednesday', 10103), 'Chicago': ('Monday', 11286), 'NYC': ('Wednesday', 44629)}\n"
     ]
    },
    {
     "data": {
      "image/png": "[encoded data removed]",
      "text/plain": [
       "<matplotlib.figure.Figure at 0x1e322208748>"
      ]
     },
     "metadata": {},
     "output_type": "display_data"
    }
   ],
   "source": [
    "\n",
    "data_file = ['./data/Washington-2016-Summary.csv', './data/Chicago-2016-Summary.csv', './data/NYC-2016-Summary.csv']\n",
    "\n",
    "dict_city = {} # It contain cities name with their different kind of user \n",
    "\n",
    "for datafile in data_file:\n",
    "    city = datafile.split('-')[0].split('/')[-1]\n",
    "    dict_city[city] = comp_week_day_city(datafile)\n",
    "\n",
    "print(dict_city)\n",
    "\n",
    "location = [] \n",
    "for key in dict_city:\n",
    "    location.append(dict_city[key][0])\n",
    "    \n",
    "ind = np.arange(1.5,5,1.5)    \n",
    "\n",
    "plt.bar(1.5,dict_city['Washington'][1],color = 'r',label = 'Washington',width = 0.5)\n",
    "plt.bar(3,dict_city['Chicago'][1],color = 'b',label = 'Chicago',width = 0.5)\n",
    "plt.bar(4.5,dict_city['NYC'][1],color = 'g',label = 'NYC',width = 0.5)\n",
    "plt.title('Day on which maximum user went on trip in each city',)\n",
    "plt.xlabel('Day',size = 15)\n",
    "plt.ylabel('Number Of Users', size =15)\n",
    "plt.xticks(ind,location)\n",
    "plt.legend()\n",
    "plt.show()\n"
   ]
  },
  {
   "cell_type": "markdown",
   "metadata": {},
   "source": [
    "<a id='conclusions'></a>\n",
    "## Conclusions\n",
    "\n",
    "Congratulations on completing the project! This is only a sampling of the data analysis process: from generating questions, wrangling the data, and to exploring the data. Normally, at this point in the data analysis process, you might want to draw conclusions about the data by performing a statistical test or fitting the data to a model for making predictions. There are also a lot of potential analyses that could be performed on the data which are not possible with only the data provided. For example, detailed location data has not been investigated. Where are the most commonly used docks? What are the most common routes? As another example, weather has potential to have a large impact on daily ridership. How much is ridership impacted when there is rain or snow? Are subscribers or customers affected more by changes in weather?\n",
    "\n",
    "**Question 7**: Putting the bike share data aside, think of a topic or field of interest where you would like to be able to apply the techniques of data science. What would you like to be able to learn from your chosen subject?\n",
    "\n",
    "**Answer**:I would like to be able to apply the techniques of data science in stock market analysis,weather forecast.\n",
    "            I would like to be able to learn a better approach of analysis to data in very efficient way and good concept.\n"
   ]
  },
  {
   "cell_type": "code",
   "execution_count": 40,
   "metadata": {},
   "outputs": [
    {
     "data": {
      "text/plain": [
       "0"
      ]
     },
     "execution_count": 40,
     "metadata": {},
     "output_type": "execute_result"
    }
   ],
   "source": [
    "from subprocess import call\n",
    "call(['python', '-m', 'nbconvert', 'Bike_Share_Analysis.ipynb'])"
   ]
  }
 ],
 "metadata": {
  "anaconda-cloud": {},
  "kernelspec": {
   "display_name": "Python 3",
   "language": "python",
   "name": "python3"
  },
  "language_info": {
   "codemirror_mode": {
    "name": "ipython",
    "version": 3
   },
   "file_extension": ".py",
   "mimetype": "text/x-python",
   "name": "python",
   "nbconvert_exporter": "python",
   "pygments_lexer": "ipython3",
   "version": "3.6.1"
  }
 },
 "nbformat": 4,
 "nbformat_minor": 1
}
